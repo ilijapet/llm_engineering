{
 "cells": [
  {
   "cell_type": "code",
   "execution_count": 1,
   "id": "92f25844-f657-4ff6-9c87-025999e84d5a",
   "metadata": {},
   "outputs": [
    {
     "name": "stdout",
     "output_type": "stream",
     "text": [
      "Anthropic is an AI research and products company committed to developing AI safely, with a strong focus on humanity's long-term well-being and responsible development.\n",
      "\n",
      "Their flagship product is **Claude**, an advanced AI model available in various versions, including the highly intelligent **Claude Opus 4**, **Sonnet 4**, and **Haiku 3.5**. Users can chat with Claude, download dedicated apps, or access its capabilities through different pricing plans (Max, Team, Enterprise).\n",
      "\n",
      "For developers, Anthropic offers an **API** and comprehensive resources to build AI-powered applications and custom experiences, highlighting solutions for **AI agents, coding, customer support, and education**.\n",
      "\n",
      "The company deeply emphasizes **AI safety** through ongoing research (including their Economic Index and detailed model family insights), and a commitment to transparency, a Responsible Scaling Policy, a Trust Center, and robust security measures (including ISO 42001 certification). They also provide learning resources via Anthropic Academy and share customer stories. The site encourages users to try Claude and explore career opportunities in safe AI development.\n"
     ]
    }
   ],
   "source": [
    "import requests \n",
    "from bs4 import BeautifulSoup\n",
    "import google.generativeai as genai\n",
    "import os \n",
    "from dotenv import load_dotenv  \n",
    "load_dotenv()  \n",
    "\n",
    "\n",
    "# Some websites need you to use proper headers when fetching them:\n",
    "genai.configure(api_key=os.environ.get(\"GEMINI_API_KEY\"))\n",
    "model = genai.GenerativeModel(model_name='gemini-2.5-flash', system_instruction=\"You are an expert web content summarizer\")\n",
    "\n",
    "headers = {\n",
    " \"User-Agent\": \"Mozilla/5.0 (Windows NT 10.0; Win64; x64) AppleWebKit/537.36 (KHTML, like Gecko) Chrome/117.0.0.0 Safari/537.36\"\n",
    "}\n",
    "\n",
    "class Website:\n",
    "\n",
    "    def __init__(self, url):\n",
    "        \"\"\"\n",
    "        Create this Website object from the given url using the BeautifulSoup library\n",
    "        \"\"\"\n",
    "        self.url = url\n",
    "        response = requests.get(url, headers=headers)\n",
    "        soup = BeautifulSoup(response.content, 'html.parser')\n",
    "        self.title = soup.title.string if soup.title else \"No title found\"\n",
    "        for irrelevant in soup.body([\"script\", \"style\", \"img\", \"input\"]):\n",
    "            irrelevant.decompose()\n",
    "        self.text = soup.body.get_text(separator=\"\\n\", strip=True)\n",
    "\n",
    "# ed = Website(\"https://edwarddonner.com\")\n",
    "ed = Website(\"https://anthropic.com\")\n",
    "user_prompt=f\"Please summarize this site {ed.title} with this content: {ed.text}\"   \n",
    "response = model.generate_content(user_prompt)\n",
    "print(response.text)\n"
   ]
  },
  {
   "cell_type": "code",
   "execution_count": null,
   "id": "85b6ed13-9db7-4c10-88fc-e7239544af97",
   "metadata": {},
   "outputs": [],
   "source": []
  }
 ],
 "metadata": {
  "kernelspec": {
   "display_name": "Python 3 (ipykernel)",
   "language": "python",
   "name": "python3"
  },
  "language_info": {
   "codemirror_mode": {
    "name": "ipython",
    "version": 3
   },
   "file_extension": ".py",
   "mimetype": "text/x-python",
   "name": "python",
   "nbconvert_exporter": "python",
   "pygments_lexer": "ipython3",
   "version": "3.11.8"
  }
 },
 "nbformat": 4,
 "nbformat_minor": 5
}
