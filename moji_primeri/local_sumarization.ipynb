{
 "cells": [
  {
   "cell_type": "code",
   "execution_count": null,
   "id": "d3721480",
   "metadata": {},
   "outputs": [
    {
     "name": "stdout",
     "output_type": "stream",
     "text": [
      "Generative AI has numerous business applications across various industries. Here are some examples:\n",
      "\n",
      "1. **Content Generation**: Generative AI can be used to generate high-quality content such as articles, social media posts, product descriptions, and more. This can help businesses save time and resources, while also improving the quality of their content.\n",
      "2. **Product Design**: Generative AI can be used to design new products, such as furniture, electronics, or fashion items. This can help businesses reduce design costs and create unique products that meet customer needs.\n",
      "3. **Image and Video Generation**: Generative AI can be used to generate high-quality images and videos for various applications such as advertising, marketing, and entertainment.\n",
      "4. **Chatbots and Virtual Assistants**: Generative AI can be used to build more sophisticated chatbots and virtual assistants that can understand and respond to customer queries in a more human-like way.\n",
      "5. **Predictive Analytics**: Generative AI can be used to analyze large datasets and make predictions about future trends and patterns. This can help businesses make informed decisions and stay ahead of the competition.\n",
      "6. **Customer Service**: Generative AI can be used to generate personalized customer service responses, reducing the need for human customer support agents.\n",
      "7. **Marketing Automation**: Generative AI can be used to automate marketing campaigns, such as generating social media posts, email newsletters, and product descriptions.\n",
      "8. **Data Analysis**: Generative AI can be used to analyze large datasets and identify patterns that may not be visible to humans.\n",
      "9. **Music and Audio Generation**: Generative AI can be used to generate music, audio effects, and soundscapes for various applications such as film, television, and video games.\n",
      "10. **Virtual Reality (VR) and Augmented Reality (AR)**: Generative AI can be used to create realistic virtual environments and objects for VR and AR applications.\n",
      "\n",
      "Some specific examples of business applications of Generative AI include:\n",
      "\n",
      "* **Dell**: Uses generative AI to generate product designs, such as laptops and desktops.\n",
      "* **Nike**: Uses generative AI to design new products, such as shoes and apparel.\n",
      "* **Netflix**: Uses generative AI to analyze customer behavior and recommend personalized content.\n",
      "* **Amazon**: Uses generative AI to power its virtual assistant, Alexa.\n",
      "* **Google**: Uses generative AI to improve its search results and provide more relevant suggestions.\n",
      "\n",
      "These are just a few examples of the many business applications of Generative AI. As the technology continues to evolve, we can expect to see even more innovative uses across various industries.\n"
     ]
    }
   ],
   "source": [
    "import ollama\n",
    "import requests\n",
    "from bs4 import BeautifulSoup\n",
    "from IPython.display import Markdown, display\n",
    "\n",
    "\n",
    "OLLAMA_API = \"http://localhost:11434/api/chat\"\n",
    "HEADERS = {\"Content-Type\": \"application/json\"}\n",
    "MODEL = \"llama3.2\"\n",
    "# MODEL = \"deepseek-r1\"\n",
    "messages = [\n",
    "    {\"role\": \"user\", \"content\": \"Describe some of the business applications of Generative AI\"}\n",
    "]\n",
    "\n",
    "payload = {\n",
    "        \"model\": MODEL,\n",
    "        \"messages\": messages,\n",
    "        \"stream\": False\n",
    "    }\n",
    "\n",
    "# !ollama pull llama3.2\n",
    "response = requests.post(OLLAMA_API, json=payload, headers=HEADERS)\n",
    "print(response.json()['message']['content'])"
   ]
  },
  {
   "cell_type": "code",
   "execution_count": null,
   "id": "bbcdd9de",
   "metadata": {},
   "outputs": [],
   "source": []
  },
  {
   "cell_type": "code",
   "execution_count": null,
   "id": "56ab4dbc",
   "metadata": {},
   "outputs": [],
   "source": []
  },
  {
   "cell_type": "code",
   "execution_count": null,
   "id": "844d2b34",
   "metadata": {},
   "outputs": [],
   "source": []
  }
 ],
 "metadata": {
  "kernelspec": {
   "display_name": "Python 3 (ipykernel)",
   "language": "python",
   "name": "python3"
  },
  "language_info": {
   "codemirror_mode": {
    "name": "ipython",
    "version": 3
   },
   "file_extension": ".py",
   "mimetype": "text/x-python",
   "name": "python",
   "nbconvert_exporter": "python",
   "pygments_lexer": "ipython3",
   "version": "3.11.8"
  }
 },
 "nbformat": 4,
 "nbformat_minor": 5
}
